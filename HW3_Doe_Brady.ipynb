{
 "cells": [
  {
   "cell_type": "code",
   "execution_count": 33,
   "id": "0e3027f4",
   "metadata": {},
   "outputs": [
    {
     "data": {
      "text/plain": [
       "66"
      ]
     },
     "execution_count": 33,
     "metadata": {},
     "output_type": "execute_result"
    }
   ],
   "source": [
    "import numpy as np\n",
    "\n",
    "grades = {'Andy': 88,'Amy': 66,'James': 90,'Jules': 55,'Arthur': 77}\n",
    "def grades_func(student):\n",
    "    if student in grades.keys():\n",
    "        return grades[student]\n",
    "    else:\n",
    "        print(\"student name cannot be found\")\n",
    "\n",
    "grades_func('Amy')"
   ]
  },
  {
   "cell_type": "code",
   "execution_count": 23,
   "id": "8e9c26fb",
   "metadata": {},
   "outputs": [
    {
     "data": {
      "text/plain": [
       "75.2"
      ]
     },
     "execution_count": 23,
     "metadata": {},
     "output_type": "execute_result"
    }
   ],
   "source": [
    "\n",
    "sum(grades.values())/len(grades.values())   \n"
   ]
  },
  {
   "cell_type": "code",
   "execution_count": 84,
   "id": "b663a5c2",
   "metadata": {},
   "outputs": [
    {
     "name": "stdout",
     "output_type": "stream",
     "text": [
      "greater than 8\n"
     ]
    }
   ],
   "source": [
    "def myfunction1(num):\n",
    "    n = 0\n",
    "    while n > num:\n",
    "        print('hi')\n",
    "        n+=1\n",
    "    print(\"greater than\",num)\n",
    "\n",
    "myfunction1(8)"
   ]
  },
  {
   "cell_type": "code",
   "execution_count": 85,
   "id": "58b6ab65",
   "metadata": {},
   "outputs": [
    {
     "name": "stdout",
     "output_type": "stream",
     "text": [
      "45\n"
     ]
    }
   ],
   "source": [
    "def myfunction2(num):\n",
    "    n = 1\n",
    "    total = 0\n",
    "    while n <= num:\n",
    "        total += n\n",
    "        n += 1\n",
    "    print(total)\n",
    "\n",
    "myfunction2(9)"
   ]
  },
  {
   "cell_type": "code",
   "execution_count": 37,
   "id": "58f047e0",
   "metadata": {},
   "outputs": [
    {
     "name": "stdout",
     "output_type": "stream",
     "text": [
      "1\n",
      "3\n",
      "6\n",
      "10\n",
      "15\n",
      "21\n",
      "28\n",
      "36\n"
     ]
    }
   ],
   "source": [
    "def myfunction3(num):\n",
    "    total = 0\n",
    "    for n in range(1, num+1):\n",
    "        total = total + n\n",
    "        print(total)\n",
    "        \n",
    "myfunction3(8)"
   ]
  },
  {
   "cell_type": "code",
   "execution_count": 57,
   "id": "78fabfe8",
   "metadata": {},
   "outputs": [
    {
     "name": "stdout",
     "output_type": "stream",
     "text": [
      "mean 50.5\n",
      "sum 5050\n",
      "sd 28.86607004772212\n"
     ]
    }
   ],
   "source": [
    "def myfunction4(list):\n",
    "    mean = np.mean(list)\n",
    "    sum = np.sum(list)\n",
    "    SD = np.std(list)\n",
    "\n",
    "    print('mean', mean)\n",
    "    print('sum', sum)\n",
    "    print('sd', SD)\n",
    "\n",
    "list1 = [1,2,3,4,5,6,7,8,9,10,11,12,13,14,15,16,17,18,19,20,21,22,23,24,25,26,27,28,29,30,31,32,33,\n",
    "         34,35,36,37,38,39,40,41,42,43,44,45,46,47,48,49,50,51,52,53,54,55,56,57,58,59,60,61,62,63,\n",
    "        64,65,66,67,68,69,70,71,72,73,74,75,76,77,78,79,80,81,82,83,84,85,86,87,88,89,90,91,92,93,94,\n",
    "        95,96,97,98,99,100]\n",
    "myfunction4(list1)"
   ]
  },
  {
   "cell_type": "code",
   "execution_count": 90,
   "id": "e76a5d0a",
   "metadata": {},
   "outputs": [
    {
     "name": "stdout",
     "output_type": "stream",
     "text": [
      "1\n"
     ]
    }
   ],
   "source": [
    "def minimal(v1, v2, v3, v4):\n",
    "    if v2 > v1:\n",
    "        if v3 > v1:\n",
    "            if v4 > v1:\n",
    "                print(v1)\n",
    "    else:\n",
    "        if v1 > v2:\n",
    "            if v3 > v2:\n",
    "                if v4 > v2:\n",
    "                    print (v2)\n",
    "        else:\n",
    "            if v1 > v3:\n",
    "                if v2 > v3:\n",
    "                    if v4 > v3:\n",
    "                        print (v3)\n",
    "            else:\n",
    "                if v1 > v4:\n",
    "                    if v2 > v4:\n",
    "                        if v3 > v4:\n",
    "                            print(v4)\n",
    "\n",
    "minimal(1,2,3,4)\n",
    "\n",
    "    "
   ]
  },
  {
   "cell_type": "code",
   "execution_count": 83,
   "id": "8b857ad5",
   "metadata": {},
   "outputs": [
    {
     "data": {
      "text/plain": [
       "'HelloHiHey'"
      ]
     },
     "execution_count": 83,
     "metadata": {},
     "output_type": "execute_result"
    }
   ],
   "source": [
    "def myfunction5(x,y,z):\n",
    "    return x+y+z\n",
    "\n",
    "myfunction5('Hello','Hi','Hey')"
   ]
  },
  {
   "cell_type": "code",
   "execution_count": null,
   "id": "e681c29b",
   "metadata": {},
   "outputs": [],
   "source": []
  }
 ],
 "metadata": {
  "kernelspec": {
   "display_name": "Python 3 (ipykernel)",
   "language": "python",
   "name": "python3"
  },
  "language_info": {
   "codemirror_mode": {
    "name": "ipython",
    "version": 3
   },
   "file_extension": ".py",
   "mimetype": "text/x-python",
   "name": "python",
   "nbconvert_exporter": "python",
   "pygments_lexer": "ipython3",
   "version": "3.9.13"
  }
 },
 "nbformat": 4,
 "nbformat_minor": 5
}
